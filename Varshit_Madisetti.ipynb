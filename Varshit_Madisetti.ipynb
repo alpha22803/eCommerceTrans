{
 "cells": [
  {
   "cell_type": "markdown",
   "metadata": {},
   "source": [
    "# eCommerce Transactions Dataset"
   ]
  },
  {
   "cell_type": "code",
   "execution_count": 1,
   "metadata": {},
   "outputs": [],
   "source": [
    "import pandas as pd\n",
    "import numpy as np\n",
    "from sklearn.preprocessing import StandardScaler\n",
    "from sklearn.cluster import KMeans\n",
    "from sklearn.metrics import davies_bouldin_score\n",
    "import matplotlib.pyplot as plt\n",
    "import seaborn as sns\n",
    "from scipy.spatial.distance import cdist\n",
    "from datetime import datetime"
   ]
  },
  {
   "cell_type": "code",
   "execution_count": 2,
   "metadata": {},
   "outputs": [],
   "source": [
    "def load_data():\n",
    "    customers_df = pd.read_csv('Customers.csv')\n",
    "    products_df = pd.read_csv('Products.csv')\n",
    "    transactions_df = pd.read_csv('Transactions.csv')\n",
    "    \n",
    "    # Convert dates to datetime\n",
    "    customers_df['SignupDate'] = pd.to_datetime(customers_df['SignupDate'])\n",
    "    transactions_df['TransactionDate'] = pd.to_datetime(transactions_df['TransactionDate'])\n",
    "    \n",
    "    return customers_df, products_df, transactions_df"
   ]
  },
  {
   "cell_type": "markdown",
   "metadata": {},
   "source": [
    "### Task 1: Exploratory Data Analysis and Business Insights"
   ]
  },
  {
   "cell_type": "code",
   "execution_count": 3,
   "metadata": {},
   "outputs": [],
   "source": [
    "def perform_eda(customers_df, products_df, transactions_df):\n",
    "    trans_with_customer = transactions_df.merge(customers_df, on='CustomerID')\n",
    "    trans_with_product = trans_with_customer.merge(products_df, on='ProductID')\n",
    "    \n",
    "    total_revenue = trans_with_product['TotalValue'].sum()\n",
    "    avg_order_value = trans_with_product.groupby('TransactionID')['TotalValue'].sum().mean()\n",
    "    customers_by_region = customers_df['Region'].value_counts()\n",
    "    sales_by_category = trans_with_product.groupby('Category')['TotalValue'].sum()\n",
    "    \n",
    "    trans_with_product['Month'] = trans_with_product['TransactionDate'].dt.strftime('%Y-%m')\n",
    "    monthly_sales = trans_with_product.groupby('Month')['TotalValue'].sum()\n",
    "    \n",
    "    customer_frequency = trans_with_product.groupby('CustomerID').size()\n",
    "    \n",
    "    return {\n",
    "        'total_revenue': total_revenue,\n",
    "        'avg_order_value': avg_order_value,\n",
    "        'customers_by_region': customers_by_region,\n",
    "        'sales_by_category': sales_by_category,\n",
    "        'monthly_sales': monthly_sales,\n",
    "        'customer_frequency': customer_frequency\n",
    "    }"
   ]
  },
  {
   "cell_type": "markdown",
   "metadata": {},
   "source": [
    "### Task 2: Lookalike Model"
   ]
  },
  {
   "cell_type": "code",
   "execution_count": 4,
   "metadata": {},
   "outputs": [],
   "source": [
    "def create_customer_features(customers_df, transactions_df, products_df):\n",
    "    customer_features = transactions_df.groupby('CustomerID').agg({\n",
    "        'TotalValue': ['sum', 'mean', 'count'],\n",
    "        'Quantity': ['sum', 'mean']\n",
    "    }).reset_index()\n",
    "    \n",
    "    customer_features.columns = ['CustomerID', 'total_spend', 'avg_spend', 'transaction_count', \n",
    "                               'total_quantity', 'avg_quantity']\n",
    "    \n",
    "    trans_with_prod = transactions_df.merge(products_df[['ProductID', 'Category']], on='ProductID')\n",
    "    category_pivot = pd.pivot_table(trans_with_prod, \n",
    "                                  values='TotalValue', \n",
    "                                  index='CustomerID',\n",
    "                                  columns='Category',\n",
    "                                  aggfunc='sum',\n",
    "                                  fill_value=0)\n",
    "    \n",
    "    customer_features = customer_features.merge(category_pivot, on='CustomerID')\n",
    "    customer_features = customer_features.merge(customers_df[['CustomerID', 'Region']], on='CustomerID')\n",
    "    \n",
    "    customer_features = pd.get_dummies(customer_features, columns=['Region'])\n",
    "    \n",
    "    return customer_features"
   ]
  },
  {
   "cell_type": "code",
   "execution_count": 5,
   "metadata": {},
   "outputs": [],
   "source": [
    "def find_lookalikes(customer_features, target_customer_id, n_recommendations=3):\n",
    "    scaler = StandardScaler()\n",
    "    features_scaled = scaler.fit_transform(customer_features.drop('CustomerID', axis=1))\n",
    "    \n",
    "    target_idx = customer_features[customer_features['CustomerID'] == target_customer_id].index[0]\n",
    "    target_features = features_scaled[target_idx].reshape(1, -1)\n",
    "    \n",
    "    similarities = 1 - cdist(target_features, features_scaled, metric='cosine')[0]\n",
    "    \n",
    "    similar_indices = np.argsort(similarities)[::-1][1:n_recommendations+1]\n",
    "    similar_customers = customer_features.iloc[similar_indices]\n",
    "    similarity_scores = similarities[similar_indices]\n",
    "\n",
    "    return list(zip(similar_customers['CustomerID'], similarity_scores))"
   ]
  },
  {
   "cell_type": "markdown",
   "metadata": {},
   "source": [
    "### Task 3: Customer Segmentation"
   ]
  },
  {
   "cell_type": "code",
   "execution_count": 6,
   "metadata": {},
   "outputs": [],
   "source": [
    "def perform_clustering(customer_features, n_clusters=5):\n",
    "    # Prepare data for clustering\n",
    "    features_scaled = StandardScaler().fit_transform(customer_features.drop('CustomerID', axis=1))\n",
    "    \n",
    "    # Perform K-means clustering\n",
    "    kmeans = KMeans(n_clusters=n_clusters, random_state=42)\n",
    "    clusters = kmeans.fit_predict(features_scaled)\n",
    "    \n",
    "    # Calculate Davies-Bouldin Index\n",
    "    db_index = davies_bouldin_score(features_scaled, clusters)\n",
    "    \n",
    "    # Add cluster labels to customer features\n",
    "    customer_features['Cluster'] = clusters\n",
    "    \n",
    "    return customer_features, db_index"
   ]
  },
  {
   "cell_type": "code",
   "execution_count": 8,
   "metadata": {},
   "outputs": [
    {
     "name": "stderr",
     "output_type": "stream",
     "text": [
      "/Users/varshit_madi/Library/Python/3.9/lib/python/site-packages/sklearn/cluster/_kmeans.py:870: FutureWarning: The default value of `n_init` will change from 10 to 'auto' in 1.4. Set the value of `n_init` explicitly to suppress the warning\n",
      "  warnings.warn(\n"
     ]
    },
    {
     "data": {
      "text/plain": [
       "({'total_revenue': 689995.56,\n",
       "  'avg_order_value': 689.9955600000001,\n",
       "  'customers_by_region': South America    59\n",
       "  Europe           50\n",
       "  North America    46\n",
       "  Asia             45\n",
       "  Name: Region, dtype: int64,\n",
       "  'sales_by_category': Category\n",
       "  Books          192147.47\n",
       "  Clothing       166170.66\n",
       "  Electronics    180783.50\n",
       "  Home Decor     150893.93\n",
       "  Name: TotalValue, dtype: float64,\n",
       "  'monthly_sales': Month\n",
       "  2023-12     3769.52\n",
       "  2024-01    66376.39\n",
       "  2024-02    51459.27\n",
       "  2024-03    47828.73\n",
       "  2024-04    57519.06\n",
       "  2024-05    64527.74\n",
       "  2024-06    48771.18\n",
       "  2024-07    71366.39\n",
       "  2024-08    63436.74\n",
       "  2024-09    70603.75\n",
       "  2024-10    47063.22\n",
       "  2024-11    38224.37\n",
       "  2024-12    59049.20\n",
       "  Name: TotalValue, dtype: float64,\n",
       "  'customer_frequency': CustomerID\n",
       "  C0001    5\n",
       "  C0002    4\n",
       "  C0003    4\n",
       "  C0004    8\n",
       "  C0005    3\n",
       "          ..\n",
       "  C0196    4\n",
       "  C0197    3\n",
       "  C0198    2\n",
       "  C0199    4\n",
       "  C0200    5\n",
       "  Length: 199, dtype: int64},\n",
       " 1.46128906179447,\n",
       "     CustomerID  total_spend    avg_spend  transaction_count  total_quantity  \\\n",
       " 0        C0001      3354.52   670.904000                  5              12   \n",
       " 1        C0002      1862.74   465.685000                  4              10   \n",
       " 2        C0003      2725.38   681.345000                  4              14   \n",
       " 3        C0004      5354.88   669.360000                  8              23   \n",
       " 4        C0005      2034.24   678.080000                  3               7   \n",
       " ..         ...          ...          ...                ...             ...   \n",
       " 194      C0196      4982.88  1245.720000                  4              12   \n",
       " 195      C0197      1928.65   642.883333                  3               9   \n",
       " 196      C0198       931.83   465.915000                  2               3   \n",
       " 197      C0199      1979.28   494.820000                  4               9   \n",
       " 198      C0200      4758.60   951.720000                  5              16   \n",
       " \n",
       "      avg_quantity    Books  Clothing  Electronics  Home Decor  Region_Asia  \\\n",
       " 0        2.400000   114.60      0.00      2827.30      412.62            0   \n",
       " 1        2.500000     0.00   1025.46         0.00      837.28            1   \n",
       " 2        3.500000     0.00    122.36      1385.20     1217.82            0   \n",
       " 3        2.875000  1888.48      0.00      1355.74     2110.66            0   \n",
       " 4        2.333333     0.00      0.00      1180.38      853.86            1   \n",
       " ..            ...      ...       ...          ...         ...          ...   \n",
       " 194      3.000000  1310.67   1585.36         0.00     2086.85            0   \n",
       " 195      3.000000     0.00      0.00       914.92     1013.73            0   \n",
       " 196      1.500000     0.00    904.84        26.99        0.00            0   \n",
       " 197      2.250000     0.00      0.00       594.38     1384.90            0   \n",
       " 198      3.200000  1665.60   2225.46       239.70      627.84            1   \n",
       " \n",
       "      Region_Europe  Region_North America  Region_South America  Cluster  \n",
       " 0                0                     0                     1        3  \n",
       " 1                0                     0                     0        2  \n",
       " 2                0                     0                     1        3  \n",
       " 3                0                     0                     1        1  \n",
       " 4                0                     0                     0        2  \n",
       " ..             ...                   ...                   ...      ...  \n",
       " 194              1                     0                     0        0  \n",
       " 195              1                     0                     0        0  \n",
       " 196              1                     0                     0        0  \n",
       " 197              1                     0                     0        0  \n",
       " 198              0                     0                     0        2  \n",
       " \n",
       " [199 rows x 15 columns])"
      ]
     },
     "execution_count": 8,
     "metadata": {},
     "output_type": "execute_result"
    }
   ],
   "source": [
    "customers_df, products_df, transactions_df = load_data()\n",
    "\n",
    "eda_results = perform_eda(customers_df, products_df, transactions_df)\n",
    "\n",
    "customer_features = create_customer_features(customers_df, transactions_df, products_df)\n",
    "\n",
    "lookalike_results = {}\n",
    "for cust_id in customers_df['CustomerID'].iloc[:20]:\n",
    "    lookalikes = find_lookalikes(customer_features, cust_id)\n",
    "    lookalike_results[cust_id] = lookalikes\n",
    "\n",
    "lookalike_df = pd.DataFrame([(k, v[0][0], v[0][1], v[1][0], v[1][1], v[2][0], v[2][1]) \n",
    "                            for k, v in lookalike_results.items()],\n",
    "                            columns=['CustomerID', 'Similar1', 'Score1', \n",
    "                                    'Similar2', 'Score2', 'Similar3', 'Score3'])\n",
    "lookalike_df.to_csv('Lookalike.csv', index=False)\n",
    "\n",
    "clustered_customers, db_index = perform_clustering(customer_features)\n",
    "\n",
    "plt.figure(figsize=(10, 6))\n",
    "sns.scatterplot(data=clustered_customers, \n",
    "                x='total_spend', \n",
    "                y='transaction_count',\n",
    "                hue='Cluster',\n",
    "                palette='deep')\n",
    "plt.title('Customer Segments by Total Spend and Transaction Count')\n",
    "plt.savefig('cluster_visualization.png')\n",
    "plt.close()\n",
    "\n",
    "eda_results, db_index, clustered_customers"
   ]
  }
 ],
 "metadata": {
  "kernelspec": {
   "display_name": "Python 3",
   "language": "python",
   "name": "python3"
  },
  "language_info": {
   "codemirror_mode": {
    "name": "ipython",
    "version": 3
   },
   "file_extension": ".py",
   "mimetype": "text/x-python",
   "name": "python",
   "nbconvert_exporter": "python",
   "pygments_lexer": "ipython3",
   "version": "3.9.6"
  }
 },
 "nbformat": 4,
 "nbformat_minor": 2
}
